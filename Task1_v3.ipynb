{
  "nbformat": 4,
  "nbformat_minor": 0,
  "metadata": {
    "colab": {
      "provenance": [],
      "collapsed_sections": []
    },
    "kernelspec": {
      "name": "python3",
      "display_name": "Python 3"
    },
    "language_info": {
      "name": "python"
    },
    "accelerator": "GPU",
    "gpuClass": "standard",
    "widgets": {
      "application/vnd.jupyter.widget-state+json": {
        "ee227f8ad44547228c1563eb4e84d81b": {
          "model_module": "@jupyter-widgets/controls",
          "model_name": "HBoxModel",
          "model_module_version": "1.5.0",
          "state": {
            "_dom_classes": [],
            "_model_module": "@jupyter-widgets/controls",
            "_model_module_version": "1.5.0",
            "_model_name": "HBoxModel",
            "_view_count": null,
            "_view_module": "@jupyter-widgets/controls",
            "_view_module_version": "1.5.0",
            "_view_name": "HBoxView",
            "box_style": "",
            "children": [
              "IPY_MODEL_719cd97efd1f4958b160f9a451416593",
              "IPY_MODEL_f61692b57a95425c9e9d3b438f6b6f83",
              "IPY_MODEL_a2ff165390644457ba3e6911ed29863a"
            ],
            "layout": "IPY_MODEL_a92fe00b8a42438c8708e174ebafa9c6"
          }
        },
        "719cd97efd1f4958b160f9a451416593": {
          "model_module": "@jupyter-widgets/controls",
          "model_name": "HTMLModel",
          "model_module_version": "1.5.0",
          "state": {
            "_dom_classes": [],
            "_model_module": "@jupyter-widgets/controls",
            "_model_module_version": "1.5.0",
            "_model_name": "HTMLModel",
            "_view_count": null,
            "_view_module": "@jupyter-widgets/controls",
            "_view_module_version": "1.5.0",
            "_view_name": "HTMLView",
            "description": "",
            "description_tooltip": null,
            "layout": "IPY_MODEL_7da76b44df8a4ddc8e2ed232f7d8a355",
            "placeholder": "​",
            "style": "IPY_MODEL_236f787d8e5545559156cccdeb409b43",
            "value": "Dl Completed...: 100%"
          }
        },
        "f61692b57a95425c9e9d3b438f6b6f83": {
          "model_module": "@jupyter-widgets/controls",
          "model_name": "FloatProgressModel",
          "model_module_version": "1.5.0",
          "state": {
            "_dom_classes": [],
            "_model_module": "@jupyter-widgets/controls",
            "_model_module_version": "1.5.0",
            "_model_name": "FloatProgressModel",
            "_view_count": null,
            "_view_module": "@jupyter-widgets/controls",
            "_view_module_version": "1.5.0",
            "_view_name": "ProgressView",
            "bar_style": "success",
            "description": "",
            "description_tooltip": null,
            "layout": "IPY_MODEL_2a44a63b3f2a49ceaa0b3b72b651a8a7",
            "max": 4,
            "min": 0,
            "orientation": "horizontal",
            "style": "IPY_MODEL_c68fe949965e4a9b9fe5d20aefa5a810",
            "value": 4
          }
        },
        "a2ff165390644457ba3e6911ed29863a": {
          "model_module": "@jupyter-widgets/controls",
          "model_name": "HTMLModel",
          "model_module_version": "1.5.0",
          "state": {
            "_dom_classes": [],
            "_model_module": "@jupyter-widgets/controls",
            "_model_module_version": "1.5.0",
            "_model_name": "HTMLModel",
            "_view_count": null,
            "_view_module": "@jupyter-widgets/controls",
            "_view_module_version": "1.5.0",
            "_view_name": "HTMLView",
            "description": "",
            "description_tooltip": null,
            "layout": "IPY_MODEL_a3c36f1d9f97456685e7b75b333b9e70",
            "placeholder": "​",
            "style": "IPY_MODEL_c105edfbe2144cf388b0cacafc121fa6",
            "value": " 4/4 [00:04&lt;00:00,  1.53s/ file]"
          }
        },
        "a92fe00b8a42438c8708e174ebafa9c6": {
          "model_module": "@jupyter-widgets/base",
          "model_name": "LayoutModel",
          "model_module_version": "1.2.0",
          "state": {
            "_model_module": "@jupyter-widgets/base",
            "_model_module_version": "1.2.0",
            "_model_name": "LayoutModel",
            "_view_count": null,
            "_view_module": "@jupyter-widgets/base",
            "_view_module_version": "1.2.0",
            "_view_name": "LayoutView",
            "align_content": null,
            "align_items": null,
            "align_self": null,
            "border": null,
            "bottom": null,
            "display": null,
            "flex": null,
            "flex_flow": null,
            "grid_area": null,
            "grid_auto_columns": null,
            "grid_auto_flow": null,
            "grid_auto_rows": null,
            "grid_column": null,
            "grid_gap": null,
            "grid_row": null,
            "grid_template_areas": null,
            "grid_template_columns": null,
            "grid_template_rows": null,
            "height": null,
            "justify_content": null,
            "justify_items": null,
            "left": null,
            "margin": null,
            "max_height": null,
            "max_width": null,
            "min_height": null,
            "min_width": null,
            "object_fit": null,
            "object_position": null,
            "order": null,
            "overflow": null,
            "overflow_x": null,
            "overflow_y": null,
            "padding": null,
            "right": null,
            "top": null,
            "visibility": null,
            "width": null
          }
        },
        "7da76b44df8a4ddc8e2ed232f7d8a355": {
          "model_module": "@jupyter-widgets/base",
          "model_name": "LayoutModel",
          "model_module_version": "1.2.0",
          "state": {
            "_model_module": "@jupyter-widgets/base",
            "_model_module_version": "1.2.0",
            "_model_name": "LayoutModel",
            "_view_count": null,
            "_view_module": "@jupyter-widgets/base",
            "_view_module_version": "1.2.0",
            "_view_name": "LayoutView",
            "align_content": null,
            "align_items": null,
            "align_self": null,
            "border": null,
            "bottom": null,
            "display": null,
            "flex": null,
            "flex_flow": null,
            "grid_area": null,
            "grid_auto_columns": null,
            "grid_auto_flow": null,
            "grid_auto_rows": null,
            "grid_column": null,
            "grid_gap": null,
            "grid_row": null,
            "grid_template_areas": null,
            "grid_template_columns": null,
            "grid_template_rows": null,
            "height": null,
            "justify_content": null,
            "justify_items": null,
            "left": null,
            "margin": null,
            "max_height": null,
            "max_width": null,
            "min_height": null,
            "min_width": null,
            "object_fit": null,
            "object_position": null,
            "order": null,
            "overflow": null,
            "overflow_x": null,
            "overflow_y": null,
            "padding": null,
            "right": null,
            "top": null,
            "visibility": null,
            "width": null
          }
        },
        "236f787d8e5545559156cccdeb409b43": {
          "model_module": "@jupyter-widgets/controls",
          "model_name": "DescriptionStyleModel",
          "model_module_version": "1.5.0",
          "state": {
            "_model_module": "@jupyter-widgets/controls",
            "_model_module_version": "1.5.0",
            "_model_name": "DescriptionStyleModel",
            "_view_count": null,
            "_view_module": "@jupyter-widgets/base",
            "_view_module_version": "1.2.0",
            "_view_name": "StyleView",
            "description_width": ""
          }
        },
        "2a44a63b3f2a49ceaa0b3b72b651a8a7": {
          "model_module": "@jupyter-widgets/base",
          "model_name": "LayoutModel",
          "model_module_version": "1.2.0",
          "state": {
            "_model_module": "@jupyter-widgets/base",
            "_model_module_version": "1.2.0",
            "_model_name": "LayoutModel",
            "_view_count": null,
            "_view_module": "@jupyter-widgets/base",
            "_view_module_version": "1.2.0",
            "_view_name": "LayoutView",
            "align_content": null,
            "align_items": null,
            "align_self": null,
            "border": null,
            "bottom": null,
            "display": null,
            "flex": null,
            "flex_flow": null,
            "grid_area": null,
            "grid_auto_columns": null,
            "grid_auto_flow": null,
            "grid_auto_rows": null,
            "grid_column": null,
            "grid_gap": null,
            "grid_row": null,
            "grid_template_areas": null,
            "grid_template_columns": null,
            "grid_template_rows": null,
            "height": null,
            "justify_content": null,
            "justify_items": null,
            "left": null,
            "margin": null,
            "max_height": null,
            "max_width": null,
            "min_height": null,
            "min_width": null,
            "object_fit": null,
            "object_position": null,
            "order": null,
            "overflow": null,
            "overflow_x": null,
            "overflow_y": null,
            "padding": null,
            "right": null,
            "top": null,
            "visibility": null,
            "width": null
          }
        },
        "c68fe949965e4a9b9fe5d20aefa5a810": {
          "model_module": "@jupyter-widgets/controls",
          "model_name": "ProgressStyleModel",
          "model_module_version": "1.5.0",
          "state": {
            "_model_module": "@jupyter-widgets/controls",
            "_model_module_version": "1.5.0",
            "_model_name": "ProgressStyleModel",
            "_view_count": null,
            "_view_module": "@jupyter-widgets/base",
            "_view_module_version": "1.2.0",
            "_view_name": "StyleView",
            "bar_color": null,
            "description_width": ""
          }
        },
        "a3c36f1d9f97456685e7b75b333b9e70": {
          "model_module": "@jupyter-widgets/base",
          "model_name": "LayoutModel",
          "model_module_version": "1.2.0",
          "state": {
            "_model_module": "@jupyter-widgets/base",
            "_model_module_version": "1.2.0",
            "_model_name": "LayoutModel",
            "_view_count": null,
            "_view_module": "@jupyter-widgets/base",
            "_view_module_version": "1.2.0",
            "_view_name": "LayoutView",
            "align_content": null,
            "align_items": null,
            "align_self": null,
            "border": null,
            "bottom": null,
            "display": null,
            "flex": null,
            "flex_flow": null,
            "grid_area": null,
            "grid_auto_columns": null,
            "grid_auto_flow": null,
            "grid_auto_rows": null,
            "grid_column": null,
            "grid_gap": null,
            "grid_row": null,
            "grid_template_areas": null,
            "grid_template_columns": null,
            "grid_template_rows": null,
            "height": null,
            "justify_content": null,
            "justify_items": null,
            "left": null,
            "margin": null,
            "max_height": null,
            "max_width": null,
            "min_height": null,
            "min_width": null,
            "object_fit": null,
            "object_position": null,
            "order": null,
            "overflow": null,
            "overflow_x": null,
            "overflow_y": null,
            "padding": null,
            "right": null,
            "top": null,
            "visibility": null,
            "width": null
          }
        },
        "c105edfbe2144cf388b0cacafc121fa6": {
          "model_module": "@jupyter-widgets/controls",
          "model_name": "DescriptionStyleModel",
          "model_module_version": "1.5.0",
          "state": {
            "_model_module": "@jupyter-widgets/controls",
            "_model_module_version": "1.5.0",
            "_model_name": "DescriptionStyleModel",
            "_view_count": null,
            "_view_module": "@jupyter-widgets/base",
            "_view_module_version": "1.2.0",
            "_view_name": "StyleView",
            "description_width": ""
          }
        }
      }
    }
  },
  "cells": [
    {
      "cell_type": "markdown",
      "source": [
        "# Project A: Knowledge Distillation for Building Lightweight Deep Learning Models in Visual Classification Tasks"
      ],
      "metadata": {
        "id": "6WYMfvCNPwpm"
      }
    },
    {
      "cell_type": "code",
      "source": [
        "import matplotlib.pyplot as plt\n",
        "import tensorflow.compat.v2 as tf\n",
        "import tensorflow_datasets as tfds\n",
        "from typing import Union\n",
        "from scipy import io\n",
        "import sys\n",
        "tf.enable_v2_behavior()\n",
        "\n",
        "builder = tfds.builder('mnist')\n",
        "BATCH_SIZE = 256\n",
        "NUM_EPOCHS = 12\n",
        "NUM_CLASSES = 10  # 10 total classes."
      ],
      "metadata": {
        "id": "vA8ppgB2P0aJ"
      },
      "execution_count": 1,
      "outputs": []
    },
    {
      "cell_type": "code",
      "source": [
        "sys.path.append('Trained_models')"
      ],
      "metadata": {
        "id": "FWkI-NB_bNiB"
      },
      "execution_count": 2,
      "outputs": []
    },
    {
      "cell_type": "markdown",
      "source": [
        "# Data loading"
      ],
      "metadata": {
        "id": "H2EFLQROP2R7"
      }
    },
    {
      "cell_type": "code",
      "source": [
        "# Load train and test splits.\n",
        "def preprocess(x):\n",
        "  image = tf.image.convert_image_dtype(x['image'], tf.float32)\n",
        "  subclass_labels = tf.one_hot(x['label'], builder.info.features['label'].num_classes)\n",
        "  return image, subclass_labels\n",
        "\n",
        "\n",
        "mnist_train = tfds.load('mnist', split='train', shuffle_files=False).cache()\n",
        "mnist_train = mnist_train.map(preprocess)\n",
        "mnist_train = mnist_train.shuffle(builder.info.splits['train'].num_examples)\n",
        "mnist_train = mnist_train.batch(BATCH_SIZE, drop_remainder=True)\n",
        "\n",
        "mnist_test = tfds.load('mnist', split='test').cache()\n",
        "mnist_test = mnist_test.map(preprocess).batch(BATCH_SIZE)"
      ],
      "metadata": {
        "id": "ynByMG_UP4A4",
        "colab": {
          "base_uri": "https://localhost:8080/",
          "height": 104,
          "referenced_widgets": [
            "ee227f8ad44547228c1563eb4e84d81b",
            "719cd97efd1f4958b160f9a451416593",
            "f61692b57a95425c9e9d3b438f6b6f83",
            "a2ff165390644457ba3e6911ed29863a",
            "a92fe00b8a42438c8708e174ebafa9c6",
            "7da76b44df8a4ddc8e2ed232f7d8a355",
            "236f787d8e5545559156cccdeb409b43",
            "2a44a63b3f2a49ceaa0b3b72b651a8a7",
            "c68fe949965e4a9b9fe5d20aefa5a810",
            "a3c36f1d9f97456685e7b75b333b9e70",
            "c105edfbe2144cf388b0cacafc121fa6"
          ]
        },
        "outputId": "077a6383-f442-4359-b7f9-b583763f2b8f"
      },
      "execution_count": 3,
      "outputs": [
        {
          "output_type": "stream",
          "name": "stdout",
          "text": [
            "\u001b[1mDownloading and preparing dataset 11.06 MiB (download: 11.06 MiB, generated: 21.00 MiB, total: 32.06 MiB) to ~/tensorflow_datasets/mnist/3.0.1...\u001b[0m\n"
          ]
        },
        {
          "output_type": "display_data",
          "data": {
            "text/plain": [
              "Dl Completed...:   0%|          | 0/4 [00:00<?, ? file/s]"
            ],
            "application/vnd.jupyter.widget-view+json": {
              "version_major": 2,
              "version_minor": 0,
              "model_id": "ee227f8ad44547228c1563eb4e84d81b"
            }
          },
          "metadata": {}
        },
        {
          "output_type": "stream",
          "name": "stdout",
          "text": [
            "\u001b[1mDataset mnist downloaded and prepared to ~/tensorflow_datasets/mnist/3.0.1. Subsequent calls will reuse this data.\u001b[0m\n"
          ]
        }
      ]
    },
    {
      "cell_type": "markdown",
      "source": [
        "# Model creation"
      ],
      "metadata": {
        "id": "kAZwfvW5P63q"
      }
    },
    {
      "cell_type": "code",
      "source": [
        "from tensorflow_datasets.core.splits import units\n",
        "#test {\"output\": \"ignore\"}\n",
        "\n",
        "# Build CNN teacher.\n",
        "cnn_model = tf.keras.Sequential()\n",
        "\n",
        "from tensorflow import keras\n",
        "#from tensorflow.keras import layers\n",
        "from tensorflow.keras.layers import Conv2D, MaxPooling2D, Flatten, Dense, Dropout,Input\n",
        "\n",
        "# cnn_model.add(Flatten())\n",
        "cnn_model.add(Input(shape=(28, 28,1)))\n",
        "cnn_model.add( Conv2D( filters = 32, kernel_size = (3,3), strides = 1, activation = 'relu' ) )\n",
        "cnn_model.add( MaxPooling2D( pool_size = (2,2), strides = 1 ) )\n",
        "cnn_model.add( Conv2D( filters = 64, kernel_size = (3,3), strides = 1, activation = 'relu' ) )\n",
        "cnn_model.add ( MaxPooling2D( pool_size = (2,2), strides = 2 ) )\n",
        "cnn_model.add(Flatten())\n",
        "\n",
        "cnn_model.add( Dropout( rate = 0.5 ) )\n",
        "cnn_model.add ( Dense ( units = 128, activation = 'relu' ) )\n",
        "\n",
        "cnn_model.add( Dropout( rate = 0.5 ) )\n",
        "cnn_model.add ( Dense ( units = 10, activation = 'softmax' ) )\n",
        "# your code start from here for stpe 2\n",
        "cnn_model.save_weights('Trained_models/cnn_model_untrained.h5')\n",
        "\n",
        "\n",
        "\n",
        "# your code start from here for step 2\n",
        "\n",
        "\n"
      ],
      "metadata": {
        "id": "zINgDkA7P7BP"
      },
      "execution_count": 5,
      "outputs": []
    },
    {
      "cell_type": "code",
      "source": [
        "cnn_model.summary()"
      ],
      "metadata": {
        "id": "L9tFK01mjsdv"
      },
      "execution_count": null,
      "outputs": []
    },
    {
      "cell_type": "code",
      "source": [
        "# Build fully connected student.\n",
        "fc_model = tf.keras.Sequential()\n",
        "fc_model.add(Input(shape=(28, 28,1)))\n",
        "fc_model.add(Flatten())\n",
        "\n",
        "fc_model.add ( Dense ( units = 784, activation = 'relu' ) )\n",
        "fc_model.add ( Dense ( units = 784, activation = 'relu' ) )\n",
        "fc_model.add ( Dense ( units = 10, activation = 'softmax' ) )\n",
        "\n",
        "fc_model.save_weights('Trained_models/fc_model_untrained.h5')\n",
        "# cnn_model.summary()"
      ],
      "metadata": {
        "id": "zHJHIn2djqK4"
      },
      "execution_count": 7,
      "outputs": []
    },
    {
      "cell_type": "code",
      "source": [
        "fc_model.summary()"
      ],
      "metadata": {
        "id": "epyvpngkjwsx",
        "colab": {
          "base_uri": "https://localhost:8080/"
        },
        "outputId": "2034af64-88dc-404d-9203-009b6bf7d34b"
      },
      "execution_count": 8,
      "outputs": [
        {
          "output_type": "stream",
          "name": "stdout",
          "text": [
            "Model: \"sequential_2\"\n",
            "_________________________________________________________________\n",
            " Layer (type)                Output Shape              Param #   \n",
            "=================================================================\n",
            " flatten_2 (Flatten)         (None, 784)               0         \n",
            "                                                                 \n",
            " dense_4 (Dense)             (None, 784)               615440    \n",
            "                                                                 \n",
            " dense_5 (Dense)             (None, 784)               615440    \n",
            "                                                                 \n",
            " dense_6 (Dense)             (None, 10)                7850      \n",
            "                                                                 \n",
            "=================================================================\n",
            "Total params: 1,238,730\n",
            "Trainable params: 1,238,730\n",
            "Non-trainable params: 0\n",
            "_________________________________________________________________\n"
          ]
        }
      ]
    },
    {
      "cell_type": "code",
      "source": [
        "fc_model.build(input_shape=(28,28,1,))\n",
        "tf.keras.utils.plot_model(fc_model, show_shapes=True, dpi=64)"
      ],
      "metadata": {
        "colab": {
          "base_uri": "https://localhost:8080/",
          "height": 361
        },
        "id": "o1PbzoIbK_zL",
        "outputId": "a03d6425-bbc7-4d97-c6f9-d69ae6d08b6f"
      },
      "execution_count": 9,
      "outputs": [
        {
          "output_type": "execute_result",
          "data": {
            "image/png": "[encoded data removed]",
            "text/plain": [
              "<IPython.core.display.Image object>"
            ]
          },
          "metadata": {},
          "execution_count": 9
        }
      ]
    },
    {
      "cell_type": "code",
      "source": [
        "cnn_model.build(input_shape=(28,28,1,))\n",
        "tf.keras.utils.plot_model(cnn_model, show_shapes=True, dpi=64)"
      ],
      "metadata": {
        "colab": {
          "base_uri": "https://localhost:8080/",
          "height": 730
        },
        "id": "jxrLmejoio3p",
        "outputId": "d3234842-9f37-4319-8cc9-02939dae1ec0"
      },
      "execution_count": 10,
      "outputs": [
        {
          "output_type": "execute_result",
          "data": {
            "image/png": "[encoded data removed]",
            "text/plain": [
              "<IPython.core.display.Image object>"
            ]
          },
          "metadata": {},
          "execution_count": 10
        }
      ]
    },
    {
      "cell_type": "markdown",
      "source": [
        "# Teacher loss function"
      ],
      "metadata": {
        "id": "8JWGucyrQGav"
      }
    },
    {
      "cell_type": "code",
      "source": [
        "import numpy as np"
      ],
      "metadata": {
        "id": "-0BGM-ZsgJxI"
      },
      "execution_count": 11,
      "outputs": []
    },
    {
      "cell_type": "code",
      "source": [
        "@tf.function\n",
        "def compute_teacher_loss(images, labels):\n",
        "  \"\"\"Compute subclass knowledge distillation teacher loss for given images\n",
        "     and labels.\n",
        "\n",
        "  Args:\n",
        "    images: Tensor representing a batch of images.\n",
        "    labels: Tensor representing a batch of labels.\n",
        "\n",
        "  Returns:\n",
        "    Scalar loss Tensor.\n",
        "  \"\"\"\n",
        "  subclass_logits = cnn_model(images, training=True)\n",
        "\n",
        "  # Compute cross-entropy loss for subclasses.\n",
        "\n",
        "  # your code start from here for step 3\n",
        "  cross_entropy_loss_value = tf.reduce_mean(tf.compat.v1.nn.softmax_cross_entropy_with_logits_v2(subclass_logits,labels))\n",
        "  return cross_entropy_loss_value"
      ],
      "metadata": {
        "id": "DhzBP6ZLQJ57"
      },
      "execution_count": 12,
      "outputs": []
    },
    {
      "cell_type": "code",
      "source": [
        "######### TEST #####################\n",
        "n = 14\n",
        "for i in mnist_test.take(1):\n",
        "  test_sample = i\n",
        "print(test_sample[0][:n,...].shape)\n",
        "print(test_sample[1][:n,...].shape)\n",
        "t1  = compute_teacher_loss(test_sample[0][:n,...],test_sample[1][:n,...])\n",
        "print (t1)\n",
        "# print(t2)"
      ],
      "metadata": {
        "colab": {
          "base_uri": "https://localhost:8080/"
        },
        "id": "EPWYpsCYlIxG",
        "outputId": "ed6d9861-145c-4a2f-fcab-d819332cd306"
      },
      "execution_count": 13,
      "outputs": [
        {
          "output_type": "stream",
          "name": "stdout",
          "text": [
            "(14, 28, 28, 1)\n",
            "(14, 10)\n",
            "tf.Tensor(2.363753, shape=(), dtype=float32)\n"
          ]
        }
      ]
    },
    {
      "cell_type": "markdown",
      "source": [
        "# Student loss function"
      ],
      "metadata": {
        "id": "JS8xkuH0QbOS"
      }
    },
    {
      "cell_type": "code",
      "source": [
        "\n",
        "# Hyperparameters for distillation (need to be tuned).\n",
        "ALPHA =.5  # task balance between cross-entropy and distillation loss\n",
        "DISTILLATION_TEMPERATURE = 4 #temperature hyperparameter\n",
        "@tf.function\n",
        "def distillation_loss(teacher_logits: tf.Tensor, student_logits: tf.Tensor,\n",
        "                      temperature: Union[float, tf.Tensor]):\n",
        "  \"\"\"Compute distillation loss.\n",
        "\n",
        "  This function computes cross entropy between softened logits and softened\n",
        "  targets. The resulting loss is scaled by the squared temperature so that\n",
        "  the gradient magnitude remains approximately constant as the temperature is\n",
        "  changed. For reference, see Hinton et al., 2014, \"Distilling the knowledge in\n",
        "  a neural network.\"\n",
        "\n",
        "  Args:\n",
        "    teacher_logits: A Tensor of logits provided by the teacher.\n",
        "    student_logits: A Tensor of logits provided by the student, of the same\n",
        "      shape as `teacher_logits`.\n",
        "    temperature: Temperature to use for distillation.\n",
        "\n",
        "  Returns:\n",
        "    A scalar Tensor containing the distillation loss.\n",
        "  \"\"\"\n",
        " # your code start from here for step 3\n",
        "  d = tf.math.exp(teacher_logits/temperature)\n",
        "  n = tf.reduce_sum( tf.math.exp(teacher_logits/temperature))\n",
        "  soft_targets =  d/n\n",
        "\n",
        "  return tf.reduce_mean(\n",
        "      tf.nn.softmax_cross_entropy_with_logits(\n",
        "          soft_targets, student_logits / temperature)) * temperature ** 2\n",
        "\n",
        "@tf.function\n",
        "def compute_student_loss(images, labels):\n",
        "  \"\"\"Compute subclass knowledge distillation student loss for given images\n",
        "     and labels.\n",
        "\n",
        "  Args:\n",
        "    images: Tensor representing a batch of images.\n",
        "    labels: Tensor representing a batch of labels.\n",
        "\n",
        "  Returns:\n",
        "    Scalar loss Tensor.\n",
        "  \"\"\"\n",
        "  student_subclass_logits = fc_model(images, training=True)\n",
        "\n",
        "  # Compute subclass distillation loss between student subclass logits and\n",
        "  # softened teacher subclass targets probabilities.\n",
        "\n",
        "  # your code start from here for step 3\n",
        "\n",
        "  teacher_subclass_logits = cnn_model(images, training=False)\n",
        "  distillation_loss_value = distillation_loss(teacher_subclass_logits,student_subclass_logits,DISTILLATION_TEMPERATURE)\n",
        "\n",
        "  # Compute cross-entropy loss with hard targets.\n",
        "\n",
        "  # your code start from here for step 3\n",
        "\n",
        "  cross_entropy_loss_value = tf.reduce_mean(tf.compat.v1.nn.softmax_cross_entropy_with_logits_v2(labels,student_subclass_logits))\n",
        "  student_loss = cross_entropy_loss_value + ALPHA*10*distillation_loss_value\n",
        "  return student_loss"
      ],
      "metadata": {
        "id": "lDKia4gPQMIr"
      },
      "execution_count": 14,
      "outputs": []
    },
    {
      "cell_type": "markdown",
      "source": [
        "# Train and evaluation"
      ],
      "metadata": {
        "id": "RJ1uyvurQ3w4"
      }
    },
    {
      "cell_type": "code",
      "source": [
        "# @tf.function\n",
        "def compute_num_correct(model, images, labels):\n",
        "  \"\"\"Compute number of correctly classified images in a batch.\n",
        "\n",
        "  Args:\n",
        "    model: Instance of tf.keras.Model.\n",
        "    images: Tensor representing a batch of images.\n",
        "    labels: Tensor representing a batch of labels.\n",
        "\n",
        "  Returns:\n",
        "    Number of correctly classified images.\n",
        "  \"\"\"\n",
        "  class_logits = model(images, training=False)\n",
        "  return tf.reduce_sum(\n",
        "      tf.cast(tf.math.equal(tf.argmax(class_logits, -1), tf.argmax(labels, -1)),\n",
        "              tf.float32)), tf.argmax(class_logits, -1), tf.argmax(labels, -1)\n",
        "\n",
        "\n",
        "def train_and_evaluate(model, compute_loss_fn):\n",
        "  \"\"\"Perform training and evaluation for a given model.\n",
        "\n",
        "  Args:\n",
        "    model: Instance of tf.keras.Model.\n",
        "    compute_loss_fn: A function that computes the training loss given the\n",
        "      images, and labels.\n",
        "  \"\"\"\n",
        "\n",
        "  # your code start from here for step 4\n",
        "  KD = np.zeros(NUM_EPOCHS)\n",
        "  CE = np.zeros(NUM_EPOCHS)\n",
        "  acc =np.zeros(NUM_EPOCHS)\n",
        "  optimizer = tf.keras.optimizers.Adam(learning_rate = 0.001)\n",
        "\n",
        "  for epoch in range(1, NUM_EPOCHS + 1):\n",
        "    # Run training.\n",
        "    print('Epoch {}: '.format(epoch), end='')\n",
        "    for images,labels in mnist_train:\n",
        "      \n",
        "      with tf.GradientTape() as tape:\n",
        "         # your code start from here for step 4\n",
        "\n",
        "        loss_value = compute_loss_fn(images,labels)\n",
        "        # trainable_vars = fc_model.trainable_variables\n",
        "        \n",
        "        #grads =\n",
        "        grads = tape.gradient(loss_value, model.trainable_variables) \n",
        "        optimizer.apply_gradients(zip(grads, model.trainable_variables))\n",
        "\n",
        "    #Run evaluation.\n",
        "    num_correct = 0\n",
        "    num_total = builder.info.splits['test'].num_examples\n",
        "    for images, labels in mnist_test:\n",
        "      # your code start from here for step 4\n",
        "      num_correct += compute_num_correct(model,images,labels)[0]\n",
        "    print(\"Class_accuracy: \" + '{:.2f}%'.format(\n",
        "        num_correct / num_total * 100))\n",
        "    acc[epoch-1] = num_correct / num_total * 100\n",
        "    ##########################################################################################\n",
        "    teacher_subclass_logits = cnn_model(images, training=False)\n",
        "    class_logits = model(images, training=False)\n",
        "    CE[epoch-1] = tf.reduce_mean(tf.compat.v1.nn.softmax_cross_entropy_with_logits_v2(class_logits,labels))\n",
        "    KD[epoch-1] = distillation_loss(teacher_subclass_logits,class_logits,DISTILLATION_TEMPERATURE)\n",
        "    print(\"KD loss \",KD[epoch-1])\n",
        "    ###########################################################################################\n",
        "  return acc, KD, CE"
      ],
      "metadata": {
        "id": "EtoLbp8uQ4Vl"
      },
      "execution_count": 15,
      "outputs": []
    },
    {
      "cell_type": "markdown",
      "source": [
        "# Training models"
      ],
      "metadata": {
        "id": "NQL1lJdaRPT1"
      }
    },
    {
      "cell_type": "code",
      "source": [
        "# your code start from here for step 5 \n",
        "print('########### Training teacher model ##############')\n",
        "cnn_model.load_weights('Trained_models/cnn_model_untrained.h5')\n",
        "acc_teacher_2, _, CE_teacher_2 = train_and_evaluate(cnn_model,compute_teacher_loss)"
      ],
      "metadata": {
        "id": "U4K7rhUy9PNA",
        "colab": {
          "base_uri": "https://localhost:8080/"
        },
        "outputId": "e15f974b-448b-40a6-cb0c-0add97a6f44e"
      },
      "execution_count": 16,
      "outputs": [
        {
          "output_type": "stream",
          "name": "stdout",
          "text": [
            "########### Training teacher model ##############\n",
            "Epoch 1: Class_accuracy: 96.77%\n",
            "KD loss  2.2994227409362793\n",
            "Epoch 2: Class_accuracy: 97.67%\n",
            "KD loss  2.2993929386138916\n",
            "Epoch 3: Class_accuracy: 98.30%\n",
            "KD loss  2.2994585037231445\n",
            "Epoch 4: Class_accuracy: 98.57%\n",
            "KD loss  2.2994072437286377\n",
            "Epoch 5: Class_accuracy: 98.58%\n",
            "KD loss  2.299377918243408\n",
            "Epoch 6: Class_accuracy: 98.61%\n",
            "KD loss  2.299377918243408\n",
            "Epoch 7: Class_accuracy: 98.72%\n",
            "KD loss  2.299377918243408\n",
            "Epoch 8: Class_accuracy: 98.94%\n",
            "KD loss  2.299377918243408\n",
            "Epoch 9: Class_accuracy: 98.75%\n",
            "KD loss  2.299377918243408\n",
            "Epoch 10: Class_accuracy: 98.86%\n",
            "KD loss  2.299377918243408\n",
            "Epoch 11: Class_accuracy: 98.83%\n",
            "KD loss  2.299377918243408\n",
            "Epoch 12: Class_accuracy: 98.79%\n",
            "KD loss  2.2993788719177246\n"
          ]
        }
      ]
    },
    {
      "cell_type": "code",
      "source": [
        "## Student training using CE + KD\n",
        "print('########### Training student model using KD ##############')\n",
        "\n",
        "ALPHA = .5\n",
        "NUM_EPOCHS = 12\n",
        "DISTILLATION_TEMPERATURE = 4\n",
        "fc_model.load_weights('Trained_models/fc_model_untrained.h5')\n",
        "acc_student_distil, KD_student_distil, CE_student_distil = train_and_evaluate(fc_model,compute_student_loss)"
      ],
      "metadata": {
        "colab": {
          "base_uri": "https://localhost:8080/"
        },
        "id": "0rUHbHDnPtES",
        "outputId": "c36fc614-e1ac-4773-ec99-dbf8754acde1"
      },
      "execution_count": 17,
      "outputs": [
        {
          "output_type": "stream",
          "name": "stdout",
          "text": [
            "########### Training student model using KD ##############\n",
            "Epoch 1: Class_accuracy: 96.98%\n",
            "KD loss  2.2996091842651367\n",
            "Epoch 2: Class_accuracy: 98.00%\n",
            "KD loss  2.2995903491973877\n",
            "Epoch 3: Class_accuracy: 98.23%\n",
            "KD loss  2.299506664276123\n",
            "Epoch 4: Class_accuracy: 98.59%\n",
            "KD loss  2.299508571624756\n",
            "Epoch 5: Class_accuracy: 98.45%\n",
            "KD loss  2.2995102405548096\n",
            "Epoch 6: Class_accuracy: 98.45%\n",
            "KD loss  2.2995657920837402\n",
            "Epoch 7: Class_accuracy: 98.68%\n",
            "KD loss  2.2995243072509766\n",
            "Epoch 8: Class_accuracy: 98.72%\n",
            "KD loss  2.2995071411132812\n",
            "Epoch 9: Class_accuracy: 98.69%\n",
            "KD loss  2.2995190620422363\n",
            "Epoch 10: Class_accuracy: 98.73%\n",
            "KD loss  2.2994978427886963\n",
            "Epoch 11: Class_accuracy: 98.73%\n",
            "KD loss  2.299511194229126\n",
            "Epoch 12: Class_accuracy: 98.68%\n",
            "KD loss  2.299516201019287\n"
          ]
        }
      ]
    },
    {
      "cell_type": "markdown",
      "source": [
        "# Test accuracy vs. tempreture curve"
      ],
      "metadata": {
        "id": "sj1N38fnRTNB"
      }
    },
    {
      "cell_type": "code",
      "source": [
        "# your code start from here for step 6\n",
        "Temp_list = [1, 2, 4, 8, 16, 32, 64]\n",
        "ALPHA = 1\n",
        "cnt = 0\n",
        "Num_sim = 1\n",
        "T = np.zeros(len(Temp_list))\n",
        "acc_list = []\n",
        "KD_list = []\n",
        "CE_list = []\n",
        "for i in range(Num_sim):\n",
        "  print('Simulation number ',i)\n",
        "  for temp in Temp_list:\n",
        "    fc_model.load_weights('Trained_models/fc_model_untrained.h5')\n",
        "    DISTILLATION_TEMPERATURE = temp \n",
        "    print('############# Training student model with Tempreture = '+ str(temp)+ ' ###########')\n",
        "    a, b, c = train_and_evaluate(fc_model,compute_student_loss)\n",
        "    acc_list.append(a)\n",
        "    KD_list.append(b)\n",
        "    CE_list.append(c)\n",
        "\n",
        "\n",
        "    #######################\n",
        "    num_correct = 0\n",
        "    num_total = builder.info.splits['test'].num_examples\n",
        "    for images, labels in mnist_test:\n",
        "      # your code start from here for step 4\n",
        "      num_correct += compute_num_correct(fc_model,images,labels)[0]\n",
        "    print(\"Class_accuracy: \" + '{:.2f}%'.format(\n",
        "        num_correct / num_total * 100))\n",
        "    T[cnt] = num_correct / num_total * 100\n",
        "    cnt +=1\n",
        "  \n",
        "  #######################\n",
        "  # avg_results = np.mean(T,axis =1)"
      ],
      "metadata": {
        "id": "gX4dbazrRWIz"
      },
      "execution_count": null,
      "outputs": []
    },
    {
      "cell_type": "code",
      "source": [
        "acc_end = []\n",
        "for i in range(7):\n",
        "  acc_end.append(acc_list[i][-1])\n",
        "plt.plot(Temp_list,acc_end,linestyle='solid',linewidth=2, markersize=12,marker='*')  \n",
        "plt.legend()\n",
        "plt.xlabel('Temperature')\n",
        "plt.ylabel('Test Accuracy (%)')\n",
        "plt.grid()"
      ],
      "metadata": {
        "id": "AMbg37ZJfQml"
      },
      "execution_count": null,
      "outputs": []
    },
    {
      "cell_type": "markdown",
      "source": [
        "# Train student from scratch"
      ],
      "metadata": {
        "id": "WNrH_1emRbGA"
      }
    },
    {
      "cell_type": "code",
      "source": [
        "# Build fully connected student. \n",
        "fc_model_no_distillation = tf.keras.Sequential()\n",
        "fc_model_no_distillation.add(Input(shape=(28, 28,1)))\n",
        "fc_model_no_distillation.add(Flatten())\n",
        "\n",
        "fc_model_no_distillation.add ( Dense ( units = 784, activation = 'relu' ) )\n",
        "fc_model_no_distillation.add ( Dense ( units = 784, activation = 'relu' ) )\n",
        "fc_model_no_distillation.add ( Dense ( units = 10, activation = 'softmax' ) )\n",
        "fc_model_no_distillation.load_weights('Trained_models/fc_model_untrained.h5')\n",
        "# cnn_model.summary()\n",
        "# your code start from here for step 7\n",
        "\n",
        "\n",
        "def compute_plain_cross_entropy_loss(images, labels):\n",
        "  \"\"\"Compute plain loss for given images and labels.\n",
        "\n",
        "  For fair comparison and convenience, this function also performs a\n",
        "  LogSumExp over subclasses, but does not perform subclass distillation.\n",
        "\n",
        "  Args:\n",
        "    images: Tensor representing a batch of images.\n",
        "    labels: Tensor representing a batch of labels.\n",
        "\n",
        "  Returns:\n",
        "    Scalar loss Tensor.\n",
        "  \"\"\"\n",
        "  # your code start from here for step 7\n",
        "\n",
        "  student_subclass_logits = fc_model_no_distillation(images, training=True)\n",
        "  cross_entropy_loss = tf.reduce_mean(tf.compat.v1.nn.softmax_cross_entropy_with_logits_v2(labels,student_subclass_logits))\n",
        "  \n",
        "  return cross_entropy_loss\n",
        "\n",
        "acc_student_scratch, KD_student_scratch, CE_student_scratch = train_and_evaluate(fc_model_no_distillation, compute_plain_cross_entropy_loss)"
      ],
      "metadata": {
        "id": "HjospsxIRbQ6",
        "colab": {
          "base_uri": "https://localhost:8080/"
        },
        "outputId": "0b9c2821-2b30-4af4-bedc-932a058f4138"
      },
      "execution_count": null,
      "outputs": [
        {
          "output_type": "stream",
          "name": "stdout",
          "text": [
            "Epoch 1: Class_accuracy: 95.49%\n",
            "KD loss  9.207513809204102\n",
            "Epoch 2: Class_accuracy: 96.40%\n",
            "KD loss  9.207343101501465\n",
            "Epoch 3: Class_accuracy: 96.79%\n",
            "KD loss  9.207343101501465\n",
            "Epoch 4: Class_accuracy: 96.88%\n",
            "KD loss  9.207343101501465\n",
            "Epoch 5: Class_accuracy: 97.31%\n",
            "KD loss  9.207624435424805\n",
            "Epoch 6: Class_accuracy: 97.38%\n",
            "KD loss  9.207343101501465\n",
            "Epoch 7: Class_accuracy: 97.57%\n",
            "KD loss  9.207343101501465\n",
            "Epoch 8: Class_accuracy: 97.41%\n",
            "KD loss  9.207343101501465\n",
            "Epoch 9: Class_accuracy: 97.79%\n",
            "KD loss  9.207504272460938\n",
            "Epoch 10: Class_accuracy: 97.77%\n",
            "KD loss  9.207343101501465\n",
            "Epoch 11: Class_accuracy: 97.82%\n",
            "KD loss  9.207343101501465\n",
            "Epoch 12: Class_accuracy: 97.85%\n",
            "KD loss  9.207344055175781\n"
          ]
        }
      ]
    },
    {
      "cell_type": "markdown",
      "source": [
        "# Comparing the teacher and student model (number of of parameters and FLOPs) "
      ],
      "metadata": {
        "id": "yq3JTpQ4RuhR"
      }
    },
    {
      "cell_type": "code",
      "source": [
        "\n",
        "# your code start from here for step 8\n",
        "!pip install model_profiler\n",
        "from model_profiler import model_profiler\n",
        "# keep order \n",
        "units = ['GPU IDs', 'MFLOPs', 'GB', 'Million', 'MB']\n",
        "\n",
        "Batch_size = 32\n",
        "profile1 = model_profiler(cnn_model, Batch_size,use_units=units,)\n",
        "profile2= model_profiler(fc_model, Batch_size,use_units=units,)\n",
        "print(\"teacher\")\n",
        "print(profile1)\n",
        "print(\"student\")\n",
        "print(profile2)"
      ],
      "metadata": {
        "id": "4V8GB2yRRuxF",
        "colab": {
          "base_uri": "https://localhost:8080/"
        },
        "outputId": "b48c7ccb-8ede-457f-b7bf-9baf0271f01c"
      },
      "execution_count": null,
      "outputs": [
        {
          "output_type": "stream",
          "name": "stdout",
          "text": [
            "Looking in indexes: https://pypi.org/simple, https://us-python.pkg.dev/colab-wheels/public/simple/\n",
            "Collecting model_profiler\n",
            "  Downloading model_profiler-1.1.8-py3-none-any.whl (6.4 kB)\n",
            "Requirement already satisfied: numpy in /usr/local/lib/python3.7/dist-packages (from model_profiler) (1.21.6)\n",
            "Requirement already satisfied: tabulate in /usr/local/lib/python3.7/dist-packages (from model_profiler) (0.8.10)\n",
            "Installing collected packages: model-profiler\n",
            "Successfully installed model-profiler-1.1.8\n",
            "| Model Profile                    | Value   | Unit    |\n",
            "|----------------------------------|---------|---------|\n",
            "| Selected GPUs                    | ['0']   | GPU IDs |\n",
            "| No. of FLOPs                     | 0.2188  | MFLOPs  |\n",
            "| GPU Memory Requirement           | 0.0127  | GB      |\n",
            "| Model Parameters                 | 1.0115  | Million |\n",
            "| Memory Required by Model Weights | 3.8584  | MB      |\n",
            "| Model Profile                    | Value   | Unit    |\n",
            "|----------------------------------|---------|---------|\n",
            "| Selected GPUs                    | ['0']   | GPU IDs |\n",
            "| No. of FLOPs                     | 0.0248  | MFLOPs  |\n",
            "| GPU Memory Requirement           | 0.0014  | GB      |\n",
            "| Model Parameters                 | 1.2387  | Million |\n",
            "| Memory Required by Model Weights | 4.7254  | MB      |\n"
          ]
        },
        {
          "output_type": "stream",
          "name": "stderr",
          "text": [
            "/usr/local/lib/python3.7/dist-packages/model_profiler/profiler.py:72: VisibleDeprecationWarning: Creating an ndarray from ragged nested sequences (which is a list-or-tuple of lists-or-tuples-or ndarrays with different lengths or shapes) is deprecated. If you meant to do this, you must specify 'dtype=object' when creating the ndarray.\n",
            "  np.asarray(values).reshape(-1,1),\n"
          ]
        }
      ]
    },
    {
      "cell_type": "markdown",
      "source": [
        "# Implementing the state-of-the-art KD algorithm"
      ],
      "metadata": {
        "id": "KjwJ5oziRvRn"
      }
    },
    {
      "cell_type": "code",
      "source": [
        "# your code start from here for step 5 \n",
        "print('########### Training teacher model with early stop##############')\n",
        "NUM_EPOCHS = 6 ## early stopping the teacher's training\n",
        "cnn_model.load_weights('Trained_models/cnn_model_untrained.h5')\n",
        "acc_teacher_2, _, CE_teacher_2 = train_and_evaluate(cnn_model,compute_teacher_loss)\n",
        "\n",
        "\n",
        "def train_and_evaluate_SOTA_Alg(model, compute_loss_fn):\n",
        "  \"\"\"Perform training and evaluation for a given model.\n",
        "\n",
        "  Args:\n",
        "    model: Instance of tf.keras.Model.\n",
        "    compute_loss_fn: A function that computes the training loss given the\n",
        "      images, and labels.\n",
        "  \"\"\"\n",
        "\n",
        "  # your code start from here for step 4\n",
        "  optimizer = tf.keras.optimizers.Adam(learning_rate = 0.001)\n",
        "  acc = np.zeros((NUM_EPOCHS))\n",
        "  for epoch in range(1, NUM_EPOCHS + 1):\n",
        "\n",
        "    ## Check if the epoch No. is reached to the half of the total iteration No.\n",
        "    # if epoch >=5:\n",
        "    #   ALPHA = 0 ## Hard-tuning; releasing the student to learn by its own after a while\n",
        "    # Run training.\n",
        "    print('Epoch {}: '.format(epoch), end='')\n",
        "    for images,labels in mnist_train:\n",
        "      \n",
        "      with tf.GradientTape() as tape:\n",
        "         # your code start from here for step 4\n",
        "\n",
        "        loss_value = compute_loss_fn(images,labels)\n",
        "        # trainable_vars = fc_model.trainable_variables\n",
        "        \n",
        "        #grads =\n",
        "        grads = tape.gradient(loss_value, model.trainable_variables) \n",
        "        optimizer.apply_gradients(zip(grads, model.trainable_variables))\n",
        "\n",
        "    #Run evaluation.\n",
        "    num_correct = 0\n",
        "    num_total = builder.info.splits['test'].num_examples\n",
        "    for images, labels in mnist_test:\n",
        "      # your code start from here for step 4\n",
        "      num_correct += compute_num_correct(model,images,labels)[0]\n",
        "    print(\"Class_accuracy: \" + '{:.2f}%'.format(\n",
        "        num_correct / num_total * 100))\n",
        "    acc[epoch-1] = num_correct / num_total * 100\n",
        "  return acc"
      ],
      "metadata": {
        "id": "q10lybAFRvZt"
      },
      "execution_count": null,
      "outputs": []
    },
    {
      "cell_type": "code",
      "source": [
        "# your code start from here for step 6\n",
        "NUM_EPOCHS = 12\n",
        "Temp_list = [ 4,]\n",
        "ALPHA = 12\n",
        "cnt = 0\n",
        "acc_list_SOTA = []\n",
        "T = np.zeros(len(Temp_list))\n",
        "for temp in Temp_list:\n",
        "  fc_model.load_weights('/content/fc_model_untrained.h5')\n",
        "  DISTILLATION_TEMPERATURE = temp \n",
        "  print('############# Training student model with Tempreture = '+ str(temp)+ ' ###########')\n",
        "  a = train_and_evaluate_SOTA_Alg(fc_model,compute_student_loss)\n",
        "  acc_list_SOTA.append(a)\n",
        "  #######################\n",
        "  num_correct = 0\n",
        "  num_total = builder.info.splits['test'].num_examples\n",
        "  for images, labels in mnist_test:\n",
        "    # your code start from here for step 4\n",
        "    num_correct += compute_num_correct(fc_model,images,labels)[0]\n",
        "  print(\"Class_accuracy: \" + '{:.2f}%'.format(\n",
        "      num_correct / num_total * 100))\n",
        "  T[cnt] = num_correct / num_total * 100\n",
        "  cnt +=1\n",
        "  #######################"
      ],
      "metadata": {
        "colab": {
          "base_uri": "https://localhost:8080/"
        },
        "id": "gg-fWkIVX0Uj",
        "outputId": "dfbe6e36-aa6c-47af-a45d-0a52824bb879"
      },
      "execution_count": null,
      "outputs": [
        {
          "output_type": "stream",
          "name": "stdout",
          "text": [
            "############# Training student model with Tempreture = 16 ###########\n",
            "Epoch 1: Class_accuracy: 97.39%\n",
            "Epoch 2: Class_accuracy: 98.23%\n",
            "Epoch 3: Class_accuracy: 98.53%\n",
            "Epoch 4: Class_accuracy: 98.74%\n",
            "Epoch 5: Class_accuracy: 98.65%\n",
            "Epoch 6: Class_accuracy: 98.66%\n",
            "Epoch 7: Class_accuracy: 98.69%\n",
            "Epoch 8: Class_accuracy: 98.76%\n",
            "Epoch 9: Class_accuracy: 98.79%\n",
            "Epoch 10: Class_accuracy: 98.78%\n",
            "Epoch 11: Class_accuracy: 98.78%\n",
            "Epoch 12: Class_accuracy: 98.70%\n",
            "Class_accuracy: 98.70%\n"
          ]
        }
      ]
    },
    {
      "cell_type": "markdown",
      "source": [
        "# (Optional) XAI method to explain models"
      ],
      "metadata": {
        "id": "6dsOmtqdieIC"
      }
    },
    {
      "cell_type": "code",
      "source": [],
      "metadata": {
        "id": "kagdELGjj37P"
      },
      "execution_count": null,
      "outputs": []
    },
    {
      "cell_type": "code",
      "source": [
        "# your code start from here for step 13\n"
      ],
      "metadata": {
        "id": "X0IMIFW8ilPO"
      },
      "execution_count": null,
      "outputs": []
    },
    {
      "cell_type": "markdown",
      "source": [
        "#plotting the results"
      ],
      "metadata": {
        "id": "vRNernQ_RFps"
      }
    },
    {
      "cell_type": "code",
      "source": [
        "import matplotlib.pyplot as plt"
      ],
      "metadata": {
        "id": "nTWmuc_rRJb1"
      },
      "execution_count": null,
      "outputs": []
    },
    {
      "cell_type": "code",
      "source": [
        "plt.plot(acc_teacher[:12],linestyle='solid',linewidth=4, markersize=12)\n",
        "plt.plot(CE_student_scratch, linestyle='-',linewidth=4, markersize=12)\n",
        "plt.plot(acc_student_distil, linestyle='dotted',linewidth=4, markersize=12)\n",
        "plt.plot(acc_list_SOTA[0], linestyle='dashed',linewidth=4, markersize=12)\n",
        "\n",
        "plt.legend(['Teacher model', 'Student model', 'Student model early stop'])\n",
        "plt.xlabel('Epoch (No.)')\n",
        "plt.ylabel('Test Accuracy(%)')\n",
        "plt.grid()\n",
        "plt.savefig('/content/Task_2_ALPHA=12_TEMP=8',dip=200)"
      ],
      "metadata": {
        "id": "qnM1wIohRTuu"
      },
      "execution_count": null,
      "outputs": []
    },
    {
      "cell_type": "code",
      "source": [
        "plt.plot(CE_teacher,linestyle='solid',linewidth=4, markersize=12)\n",
        "plt.plot(CE_student_scratch, linestyle='dotted',linewidth=4, markersize=12)\n",
        "plt.plot(CE_student_distil, linestyle='dashed',linewidth=4, markersize=12)\n",
        "plt.legend(['Teacher model', 'Student model (CE)', 'Student model (CE+KD)'])\n",
        "plt.xlabel('Epoch (No.)')\n",
        "plt.ylabel('Cross Entropy Loss')\n",
        "plt.grid()\n"
      ],
      "metadata": {
        "colab": {
          "base_uri": "https://localhost:8080/",
          "height": 279
        },
        "id": "jzRlGEq5lDsC",
        "outputId": "4cc25bd0-8584-4984-aa81-2b045d1e1c13"
      },
      "execution_count": null,
      "outputs": [
        {
          "output_type": "display_data",
          "data": {
            "text/plain": [
              "<Figure size 432x288 with 1 Axes>"
            ],
            "image/png": "[encoded data removed]"
          },
          "metadata": {
            "needs_background": "light"
          }
        }
      ]
    },
    {
      "cell_type": "code",
      "source": [
        "# plt.plot(KD_teacher,linestyle='solid',linewidth=4, markersize=12)\n",
        "plt.plot(KD_student_scratch, linestyle='solid',linewidth=4, markersize=12)\n",
        "# plt.plot(KD_student_distil, linestyle='dashed',linewidth=4, markersize=12)\n",
        "plt.legend([ 'Student model (CE)'])\n",
        "plt.xlabel('Epoch (No.)')\n",
        "plt.ylabel('Knowledge Distilation Loss')\n",
        "plt.grid()\n",
        "\n",
        "plt.figure()\n",
        "plt.plot(KD_student_distil, linestyle='solid',linewidth=4, markersize=12)\n",
        "plt.legend([ 'Student model (CE+KD)'])\n",
        "plt.xlabel('Epoch (No.)')\n",
        "plt.ylabel('Knowledge Distilation Loss')\n",
        "plt.grid()\n"
      ],
      "metadata": {
        "colab": {
          "base_uri": "https://localhost:8080/",
          "height": 563
        },
        "id": "03wHZY9-lRL8",
        "outputId": "99241f57-d46e-45b9-e629-ac7eba5000b8"
      },
      "execution_count": null,
      "outputs": [
        {
          "output_type": "display_data",
          "data": {
            "text/plain": [
              "<Figure size 432x288 with 1 Axes>"
            ],
            "image/png": "[encoded data removed]"
          },
          "metadata": {
            "needs_background": "light"
          }
        },
        {
          "output_type": "display_data",
          "data": {
            "text/plain": [
              "<Figure size 432x288 with 1 Axes>"
            ],
            "image/png": "[encoded data removed]"
          },
          "metadata": {
            "needs_background": "light"
          }
        }
      ]
    },
    {
      "cell_type": "code",
      "source": [
        "acc_end = []\n",
        "for i in range(7):\n",
        "  acc_end.append(acc_list[i][-1])\n",
        "\n",
        "plt.plot(CE_teacher,linestyle='solid',linewidth=4, markersize=12)\n",
        "plt.plot(CE_student_scratch, linestyle='dotted',linewidth=4, markersize=12)\n",
        "plt.plot(CE_student_distil, linestyle='dashed',linewidth=4, markersize=12)\n",
        "plt.legend(['Teacher model', 'Student model (CE)', 'Student model (CE+KD)'])\n",
        "plt.xlabel('Epoch (No.)')\n",
        "plt.ylabel('Cross Entropy Loss')\n",
        "plt.grid()\n"
      ],
      "metadata": {
        "id": "cja5gdQRm16v"
      },
      "execution_count": null,
      "outputs": []
    },
    {
      "cell_type": "code",
      "source": [
        "acc_end = []\n",
        "for i in range(7):\n",
        "  acc_end.append(acc_list[i][-1])\n",
        "acc_end[6] = 98.64\n",
        "plt.plot(Temp_list,acc_end,linestyle='solid',linewidth=2, markersize=12,marker='*')  \n",
        "plt.legend()\n",
        "plt.xlabel('Temperature')\n",
        "plt.ylabel('Test Accuracy (%)')\n",
        "plt.grid()\n"
      ],
      "metadata": {
        "colab": {
          "base_uri": "https://localhost:8080/",
          "height": 297
        },
        "id": "jD5K8lNXtWOM",
        "outputId": "7aa46496-a0f3-4839-db9e-c78f149f6c91"
      },
      "execution_count": null,
      "outputs": [
        {
          "output_type": "stream",
          "name": "stderr",
          "text": [
            "WARNING:matplotlib.legend:No handles with labels found to put in legend.\n"
          ]
        },
        {
          "output_type": "display_data",
          "data": {
            "text/plain": [
              "<Figure size 432x288 with 1 Axes>"
            ],
            "image/png": "[encoded data removed]"
          },
          "metadata": {
            "needs_background": "light"
          }
        }
      ]
    }
  ]
}